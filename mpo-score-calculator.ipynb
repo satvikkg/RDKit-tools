{
 "cells": [
  {
   "cell_type": "code",
   "execution_count": 1,
   "id": "85a3039d",
   "metadata": {},
   "outputs": [],
   "source": [
    "# MPO for logP:\n",
    "def mpologP(self):\n",
    "    # Points to calculate slope and intercept.\n",
    "    x1, y1, x2, y2 = 3.0, 1.0, 5.0, 0.0\n",
    "    a = (y2 - y1) / (x2 -x1)\n",
    "    b = y1 - a * x1\n",
    "    \n",
    "    # Calculating y from x.\n",
    "    x = self\n",
    "    if x < 3:\n",
    "        y = 1\n",
    "    elif x >= 5:\n",
    "        y = 0\n",
    "    else:\n",
    "        y = a*x + b\n",
    "\n",
    "    return round(y, 1)"
   ]
  },
  {
   "cell_type": "code",
   "execution_count": 3,
   "id": "0ede9a53",
   "metadata": {},
   "outputs": [],
   "source": [
    "# MPO for logD:\n",
    "def mpologD(self):\n",
    "    # Points to calculate the slope and intercept.\n",
    "    x1, y1, x2, y2 = 2.0, 1.0, 4.0, 0.0\n",
    "    a = (y2 - y1) / (x2 - x1)\n",
    "    b = y1 - a * x1\n",
    "    \n",
    "    # Calculating y from x.\n",
    "    x = self\n",
    "    if x < 2:\n",
    "        y = 1\n",
    "    elif x >= 4:\n",
    "        y = 0\n",
    "    else:\n",
    "        y = a*x + b\n",
    "    \n",
    "    return round(y, 1)"
   ]
  },
  {
   "cell_type": "code",
   "execution_count": 5,
   "id": "36c0b2ad",
   "metadata": {},
   "outputs": [],
   "source": [
    "# MPO for molecular weight:\n",
    "def mpoMW(self):\n",
    "    # Points to calculate the slope and intercept.\n",
    "    x1, y1, x2, y2 = 360.0, 1.0, 500.0, 0.0\n",
    "    a = (y2 - y1) / (x2 - x1)\n",
    "    b = y1 - a * x1\n",
    "    \n",
    "    # Calculating y from x.\n",
    "    x = self\n",
    "    if x < 360:\n",
    "        y = 1\n",
    "    elif x >= 500:\n",
    "        y = 0\n",
    "    else:\n",
    "        y = a*x + b\n",
    "    \n",
    "    return round(y, 1)"
   ]
  },
  {
   "cell_type": "code",
   "execution_count": 7,
   "id": "af370595",
   "metadata": {},
   "outputs": [],
   "source": [
    "# MPO for TPSA (Total Polar Surface Area):\n",
    "def mpoTPSA(self):\n",
    "    # Points to calculate the slope and intercept.\n",
    "    x = self\n",
    "    if x < 20:\n",
    "        x1, y1, x2, y2 = 20.0, 0.0, 40.0, 1.0\n",
    "        a = (y2 - y1) / (x2 - x1)\n",
    "        b = y1 - a * x1\n",
    "        y = a*x + b\n",
    "    elif 40 <= x <= 90:\n",
    "        x1, y1, x2, y2 = 90.0, 1.0, 120.0, 0.0\n",
    "        a = (y2 - y1) / (x2 - x1)\n",
    "        b = y1 - a * x1\n",
    "        y = a*x + b        \n",
    "    elif x >= 120:\n",
    "        y = 0\n",
    "    return round(y, 1)"
   ]
  },
  {
   "cell_type": "code",
   "execution_count": 10,
   "id": "fa255d0e",
   "metadata": {},
   "outputs": [],
   "source": [
    "# MPO for HBD:\n",
    "def mpoHBD(self):\n",
    "    # Calculating MPO scores for number of hydrogen bond donors in ligand.\n",
    "    if self == 0:\n",
    "        y = 1\n",
    "    elif self == 1:\n",
    "        y = 0.75\n",
    "    elif self == 2:\n",
    "        y = 0.5\n",
    "    elif self == 3:\n",
    "        y = 0.25\n",
    "    elif self >= 4:\n",
    "        y = 0\n",
    "        \n",
    "    return round(y, 1)"
   ]
  },
  {
   "cell_type": "code",
   "execution_count": 12,
   "id": "9e99b6d6",
   "metadata": {},
   "outputs": [],
   "source": [
    "# MPO for pKa:\n",
    "def mpopKa(self):\n",
    "    # Points to calculate the slope and intercept.\n",
    "    x1, y1, x2, y2 = 8.0, 1.0, 10.0, 0.0\n",
    "    a = (y2 - y1) / (x2 - x1)\n",
    "    b = y1 - a * x1\n",
    "    \n",
    "    # calculating y from x.\n",
    "    x = self\n",
    "    if x < 8:\n",
    "        y = 1\n",
    "    elif x >=10:\n",
    "        y = 0\n",
    "    else:\n",
    "        y = a*x + b\n",
    "    \n",
    "    return round(y, 1)"
   ]
  },
  {
   "cell_type": "code",
   "execution_count": 14,
   "id": "ac7a0046",
   "metadata": {},
   "outputs": [],
   "source": [
    "def MPO(logp, logd, molwt, tpsa, hbd, pka):\n",
    "    return (mpologP(logp)+mpologD(logd)+mpoMW(molwt)+mpoTPSA(tpsa)+mpoHBD(hbd)+mpopKa(pka))"
   ]
  },
  {
   "cell_type": "code",
   "execution_count": 15,
   "id": "fac0b432",
   "metadata": {},
   "outputs": [
    {
     "data": {
      "text/plain": [
       "4.4"
      ]
     },
     "execution_count": 15,
     "metadata": {},
     "output_type": "execute_result"
    }
   ],
   "source": [
    "MPO(3.7,2.7,375,90,1,9)"
   ]
  },
  {
   "cell_type": "code",
   "execution_count": null,
   "id": "01d1e984",
   "metadata": {},
   "outputs": [],
   "source": []
  }
 ],
 "metadata": {
  "kernelspec": {
   "display_name": "Python 3 (ipykernel)",
   "language": "python",
   "name": "python3"
  },
  "language_info": {
   "codemirror_mode": {
    "name": "ipython",
    "version": 3
   },
   "file_extension": ".py",
   "mimetype": "text/x-python",
   "name": "python",
   "nbconvert_exporter": "python",
   "pygments_lexer": "ipython3",
   "version": "3.10.4"
  }
 },
 "nbformat": 4,
 "nbformat_minor": 5
}
