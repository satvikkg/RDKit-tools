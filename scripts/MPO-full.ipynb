{
 "cells": [
  {
   "cell_type": "code",
   "execution_count": 4,
   "id": "8d70ad7c",
   "metadata": {},
   "outputs": [],
   "source": [
    "from rdkit import Chem\n",
    "from rdkit.Chem import PandasTools\n",
    "from scopy.ScoDruglikeness import molproperty"
   ]
  },
  {
   "cell_type": "code",
   "execution_count": 34,
   "id": "6fd79182",
   "metadata": {},
   "outputs": [],
   "source": [
    "def CNSMPO(self):\n",
    "    '''Function to calculate the CNS MPO score of a molecule.'''\n",
    "    # Converting SMILES to mol object.\n",
    "    mol = Chem.MolFromSmiles(self)\n",
    "    # Calculating molecular properties for CNS MPO.\n",
    "    logp = molproperty.CalculateLogP(mol)\n",
    "    logd = molproperty.CalculateLogD(mol)\n",
    "    molwt = molproperty.CalculateMolWeight(mol)\n",
    "    tpsa = molproperty.CalculateTPSA(mol)\n",
    "    hbd =  molproperty.CalculateNumHDonors(mol)\n",
    "    pka = molproperty.CalculatepKa(mol)\n",
    "    \n",
    "    # MPO for logP:\n",
    "    def mpologP(logp):\n",
    "        # Points to calculate slope and intercept.\n",
    "        x1, y1, x2, y2 = 3.0, 1.0, 5.0, 0.0\n",
    "        a = (y2 - y1) / (x2 -x1)\n",
    "        b = y1 - a * x1\n",
    "    \n",
    "        # Calculating y from x.\n",
    "        x = logp\n",
    "        if x < 3:\n",
    "            y = 1\n",
    "        elif x >= 5:\n",
    "            y = 0\n",
    "        else:\n",
    "            y = a*x + b\n",
    "\n",
    "        return round(y, 1)\n",
    "    \n",
    "    # MPO for logD:\n",
    "    def mpologD(logd):\n",
    "        # Points to calculate the slope and intercept.\n",
    "        x1, y1, x2, y2 = 2.0, 1.0, 4.0, 0.0\n",
    "        a = (y2 - y1) / (x2 - x1)\n",
    "        b = y1 - a * x1\n",
    "    \n",
    "        # Calculating y from x.\n",
    "        x = logd\n",
    "        if x < 2:\n",
    "            y = 1\n",
    "        elif x >= 4:\n",
    "            y = 0\n",
    "        else:\n",
    "            y = a*x + b\n",
    "    \n",
    "        return round(y, 1)\n",
    "    \n",
    "    # MPO for molecular weight:\n",
    "    def mpoMW(molwt):\n",
    "        # Points to calculate the slope and intercept.\n",
    "        x1, y1, x2, y2 = 360.0, 1.0, 500.0, 0.0\n",
    "        a = (y2 - y1) / (x2 - x1)\n",
    "        b = y1 - a * x1\n",
    "    \n",
    "        # Calculating y from x.\n",
    "        x = molwt\n",
    "        if x < 360:\n",
    "            y = 1\n",
    "        elif x >= 500:\n",
    "            y = 0\n",
    "        else:\n",
    "            y = a*x + b\n",
    "    \n",
    "        return round(y, 1)\n",
    "    \n",
    "    # MPO for TPSA (Total Polar Surface Area):\n",
    "    def mpoTPSA(tpsa):\n",
    "        # Points to calculate the slope and intercept.\n",
    "        x = tpsa\n",
    "        if x < 20:\n",
    "            y = 0\n",
    "        elif 20 <= x <= 39:\n",
    "            x1, y1, x2, y2 = 20.0, 0.0, 40.0, 1.0\n",
    "            a = (y2 - y1) / (x2 - x1)\n",
    "            b = y1 - a * x1\n",
    "            y = a*x + b\n",
    "        elif 40 <= x <= 90:\n",
    "            y = 1\n",
    "        elif 91 <= x <= 120:\n",
    "            x1, y1, x2, y2 = 90.0, 1.0, 120.0, 0.0\n",
    "            a = (y2 - y1) / (x2 - x1)\n",
    "            b = y1 - a * x1\n",
    "            y = a*x + b        \n",
    "        elif x > 120:\n",
    "            y = 0\n",
    "        return round(y, 1)\n",
    "    \n",
    "    # MPO for HBD:\n",
    "    def mpoHBD(hbd):\n",
    "        # Calculating MPO scores for number of hydrogen bond donors in ligand.\n",
    "        if hbd == 0:\n",
    "            y = 1\n",
    "        elif hbd == 1:\n",
    "            y = 0.75\n",
    "        elif hbd == 2:\n",
    "            y = 0.5\n",
    "        elif hbd == 3:\n",
    "            y = 0.25\n",
    "        elif hbd >= 4:\n",
    "            y = 0\n",
    "        \n",
    "        return round(y, 1)\n",
    "    \n",
    "    # MPO for pKa:\n",
    "    def mpopKa(pka):\n",
    "        # Points to calculate the slope and intercept.\n",
    "        x1, y1, x2, y2 = 8.0, 1.0, 10.0, 0.0\n",
    "        a = (y2 - y1) / (x2 - x1)\n",
    "        b = y1 - a * x1\n",
    "    \n",
    "        # calculating y from x.\n",
    "        x = pka\n",
    "        if x < 8:\n",
    "            y = 1\n",
    "        elif x >=10:\n",
    "            y = 0\n",
    "        else:\n",
    "            y = a*x + b\n",
    "    \n",
    "        return round(y, 1)\n",
    "    \n",
    "    return round((mpologP(logp)+mpologD(logd)+mpoMW(molwt)+mpoTPSA(tpsa)+mpoHBD(hbd)+mpopKa(pka)), 1)"
   ]
  },
  {
   "cell_type": "code",
   "execution_count": 35,
   "id": "623ccfd4",
   "metadata": {},
   "outputs": [
    {
     "data": {
      "text/plain": [
       "5.8"
      ]
     },
     "execution_count": 35,
     "metadata": {},
     "output_type": "execute_result"
    }
   ],
   "source": [
    "CNSMPO('O=C(C)Oc1ccccc1C(=O)O')"
   ]
  },
  {
   "cell_type": "code",
   "execution_count": 36,
   "id": "9d288bf5",
   "metadata": {},
   "outputs": [
    {
     "data": {
      "text/plain": [
       "4.7"
      ]
     },
     "execution_count": 36,
     "metadata": {},
     "output_type": "execute_result"
    }
   ],
   "source": [
    "CNSMPO('COC(=O)C(c1ccccc1Cl)N1CCc2c(C1)ccs2')"
   ]
  },
  {
   "cell_type": "code",
   "execution_count": 37,
   "id": "cd534de3",
   "metadata": {},
   "outputs": [
    {
     "data": {
      "text/plain": [
       "5.5"
      ]
     },
     "execution_count": 37,
     "metadata": {},
     "output_type": "execute_result"
    }
   ],
   "source": [
    "CNSMPO('O=C(O)CC1(CN)CCCCC1')"
   ]
  },
  {
   "cell_type": "code",
   "execution_count": null,
   "id": "e7fbfe06",
   "metadata": {},
   "outputs": [],
   "source": []
  }
 ],
 "metadata": {
  "kernelspec": {
   "display_name": "Python 3 (ipykernel)",
   "language": "python",
   "name": "python3"
  },
  "language_info": {
   "codemirror_mode": {
    "name": "ipython",
    "version": 3
   },
   "file_extension": ".py",
   "mimetype": "text/x-python",
   "name": "python",
   "nbconvert_exporter": "python",
   "pygments_lexer": "ipython3",
   "version": "3.10.5"
  }
 },
 "nbformat": 4,
 "nbformat_minor": 5
}
