{
 "cells": [
  {
   "cell_type": "code",
   "execution_count": 1,
   "id": "d211db02",
   "metadata": {},
   "outputs": [],
   "source": [
    "# MPO for logP:\n",
    "def mpologP(self):\n",
    "    # Points to calculate slope and intercept.\n",
    "    x1, y1, x2, y2 = 3.0, 1.0, 5.0, 0.0\n",
    "    a = (y2 - y1) / (x2 -x1)\n",
    "    b = y1 - a * x1\n",
    "    \n",
    "    # Calculating y from x.\n",
    "    x = self\n",
    "    if x < 3:\n",
    "        y = 1\n",
    "    elif x >= 5:\n",
    "        y = 0\n",
    "    else:\n",
    "        y = a*x + b\n",
    "\n",
    "    return round(y, 1)"
   ]
  },
  {
   "cell_type": "code",
   "execution_count": 2,
   "id": "d3345ccb",
   "metadata": {},
   "outputs": [],
   "source": [
    "# MPO for logD:\n",
    "def mpologD(self):\n",
    "    # Points to calculate the slope and intercept.\n",
    "    x1, y1, x2, y2 = 2.0, 1.0, 4.0, 0.0\n",
    "    a = (y2 - y1) / (x2 - x1)\n",
    "    b = y1 - a * x1\n",
    "    \n",
    "    # Calculating y from x.\n",
    "    x = self\n",
    "    if x < 2:\n",
    "        y = 1\n",
    "    elif x >= 4:\n",
    "        y = 0\n",
    "    else:\n",
    "        y = a*x + b\n",
    "    \n",
    "    return round(y, 1)"
   ]
  },
  {
   "cell_type": "code",
   "execution_count": 3,
   "id": "db5df427",
   "metadata": {},
   "outputs": [],
   "source": [
    "# MPO for molecular weight:\n",
    "def mpoMW(self):\n",
    "    # Points to calculate the slope and intercept.\n",
    "    x1, y1, x2, y2 = 360.0, 1.0, 500.0, 0.0\n",
    "    a = (y2 - y1) / (x2 - x1)\n",
    "    b = y1 - a * x1\n",
    "    \n",
    "    # Calculating y from x.\n",
    "    x = self\n",
    "    if x < 360:\n",
    "        y = 1\n",
    "    elif x >= 500:\n",
    "        y = 0\n",
    "    else:\n",
    "        y = a*x + b\n",
    "    \n",
    "    return round(y, 1)"
   ]
  },
  {
   "cell_type": "code",
   "execution_count": 53,
   "id": "2671bd05",
   "metadata": {},
   "outputs": [],
   "source": [
    "# MPO for TPSA (Total Polar Surface Area):\n",
    "def mpoTPSA(self):\n",
    "    # Points to calculate the slope and intercept.\n",
    "    x = self\n",
    "    if x < 20:\n",
    "        y = 0\n",
    "    elif 20 <= x <= 39:\n",
    "        x1, y1, x2, y2 = 20.0, 0.0, 40.0, 1.0\n",
    "        a = (y2 - y1) / (x2 - x1)\n",
    "        b = y1 - a * x1\n",
    "        y = a*x + b\n",
    "    elif 40 <= x <= 90:\n",
    "        y = 1\n",
    "    elif 91 <= x <= 120:\n",
    "        x1, y1, x2, y2 = 90.0, 1.0, 120.0, 0.0\n",
    "        a = (y2 - y1) / (x2 - x1)\n",
    "        b = y1 - a * x1\n",
    "        y = a*x + b        \n",
    "    elif x > 120:\n",
    "        y = 0\n",
    "    return round(y, 1)"
   ]
  },
  {
   "cell_type": "code",
   "execution_count": 5,
   "id": "39fc4318",
   "metadata": {},
   "outputs": [],
   "source": [
    "# MPO for HBD:\n",
    "def mpoHBD(self):\n",
    "    # Calculating MPO scores for number of hydrogen bond donors in ligand.\n",
    "    if self == 0:\n",
    "        y = 1\n",
    "    elif self == 1:\n",
    "        y = 0.75\n",
    "    elif self == 2:\n",
    "        y = 0.5\n",
    "    elif self == 3:\n",
    "        y = 0.25\n",
    "    elif self >= 4:\n",
    "        y = 0\n",
    "        \n",
    "    return round(y, 1)"
   ]
  },
  {
   "cell_type": "code",
   "execution_count": 6,
   "id": "ec3b42d0",
   "metadata": {},
   "outputs": [],
   "source": [
    "# MPO for pKa:\n",
    "def mpopKa(self):\n",
    "    # Points to calculate the slope and intercept.\n",
    "    x1, y1, x2, y2 = 8.0, 1.0, 10.0, 0.0\n",
    "    a = (y2 - y1) / (x2 - x1)\n",
    "    b = y1 - a * x1\n",
    "    \n",
    "    # calculating y from x.\n",
    "    x = self\n",
    "    if x < 8:\n",
    "        y = 1\n",
    "    elif x >=10:\n",
    "        y = 0\n",
    "    else:\n",
    "        y = a*x + b\n",
    "    \n",
    "    return round(y, 1)"
   ]
  },
  {
   "cell_type": "code",
   "execution_count": 59,
   "id": "bb8632cc",
   "metadata": {},
   "outputs": [],
   "source": [
    "def MPO(logp, logd, molwt, tpsa, hbd, pka):\n",
    "    return round((mpologP(logp)+mpologD(logd)+mpoMW(molwt)+mpoTPSA(tpsa)+mpoHBD(hbd)+mpopKa(pka)), 1)"
   ]
  },
  {
   "cell_type": "markdown",
   "id": "3c5237d2",
   "metadata": {},
   "source": [
    "## Verifying the tool"
   ]
  },
  {
   "cell_type": "markdown",
   "id": "97a3b86a",
   "metadata": {},
   "source": [
    "### Example from chemaxon\n",
    "https://docs.chemaxon.com/display/docs/images/calculators/cns-mpo/cns_mpo_score_marvin.png"
   ]
  },
  {
   "cell_type": "code",
   "execution_count": 65,
   "id": "f322bebf",
   "metadata": {},
   "outputs": [
    {
     "data": {
      "text/plain": [
       "5.8"
      ]
     },
     "execution_count": 65,
     "metadata": {},
     "output_type": "execute_result"
    }
   ],
   "source": [
    "MPO(1.24,-2.16,180.16,63.60,1,-7.14)"
   ]
  },
  {
   "cell_type": "markdown",
   "id": "357bedaa",
   "metadata": {},
   "source": [
    "### Examples from syngnature discovery\n",
    "https://www.sygnaturediscovery.com/wp-content/uploads/2018/05/Romark-Medicinal-Chemistry-Syposium-2018-Slideset-v2.pdf"
   ]
  },
  {
   "cell_type": "code",
   "execution_count": 62,
   "id": "fb7e4aa7",
   "metadata": {},
   "outputs": [
    {
     "data": {
      "text/plain": [
       "4.6"
      ]
     },
     "execution_count": 62,
     "metadata": {},
     "output_type": "execute_result"
    }
   ],
   "source": [
    "MPO(3.8, 3.5, 392.5, 52.8, 0.0, 4.3)"
   ]
  },
  {
   "cell_type": "code",
   "execution_count": 63,
   "id": "1b2d497b",
   "metadata": {},
   "outputs": [
    {
     "data": {
      "text/plain": [
       "4.8"
      ]
     },
     "execution_count": 63,
     "metadata": {},
     "output_type": "execute_result"
    }
   ],
   "source": [
    "MPO(2.4, 0.0, 322.4, 32.3, 1.0, 9.2)"
   ]
  },
  {
   "cell_type": "code",
   "execution_count": 64,
   "id": "c0c141a2",
   "metadata": {},
   "outputs": [
    {
     "data": {
      "text/plain": [
       "5.1"
      ]
     },
     "execution_count": 64,
     "metadata": {},
     "output_type": "execute_result"
    }
   ],
   "source": [
    "MPO(-1.5, -0.7, 395.4, 101.9, 1.0, 7.9)"
   ]
  },
  {
   "cell_type": "code",
   "execution_count": null,
   "id": "982d3c55",
   "metadata": {},
   "outputs": [],
   "source": [
    "# Unknown"
   ]
  },
  {
   "cell_type": "code",
   "execution_count": 61,
   "id": "cc6ecb28",
   "metadata": {},
   "outputs": [
    {
     "data": {
      "text/plain": [
       "4.4"
      ]
     },
     "execution_count": 61,
     "metadata": {},
     "output_type": "execute_result"
    }
   ],
   "source": [
    "MPO(3.7, 2.7, 375, 90, 1, 9)"
   ]
  }
 ],
 "metadata": {
  "kernelspec": {
   "display_name": "Python 3 (ipykernel)",
   "language": "python",
   "name": "python3"
  },
  "language_info": {
   "codemirror_mode": {
    "name": "ipython",
    "version": 3
   },
   "file_extension": ".py",
   "mimetype": "text/x-python",
   "name": "python",
   "nbconvert_exporter": "python",
   "pygments_lexer": "ipython3",
   "version": "3.10.5"
  }
 },
 "nbformat": 4,
 "nbformat_minor": 5
}
