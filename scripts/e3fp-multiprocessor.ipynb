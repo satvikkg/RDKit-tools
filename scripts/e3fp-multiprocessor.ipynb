{
 "cells": [
  {
   "cell_type": "markdown",
   "id": "fb2cdd2a",
   "metadata": {},
   "source": [
    "# Calculation of E3FP fingerprints\n",
    "\n",
    "## Requirements:\n",
    "1. Ligprep SDF files containing SMILES column genetated in Schrodinger maestro."
   ]
  },
  {
   "cell_type": "code",
   "execution_count": null,
   "id": "31406fcb",
   "metadata": {
    "ExecuteTime": {
     "end_time": "2022-06-14T08:39:16.239906Z",
     "start_time": "2022-06-14T08:39:15.722039Z"
    }
   },
   "outputs": [],
   "source": [
    "import os\n",
    "import time\n",
    "import fileinput\n",
    "import pandas as pd\n",
    "from tqdm import tqdm\n",
    "import multiprocessing\n",
    "from joblib import Parallel, delayed\n",
    "from rdkit.Chem import PandasTools as pt\n",
    "from e3fp.pipeline import fprints_from_smiles"
   ]
  },
  {
   "cell_type": "code",
   "execution_count": null,
   "id": "79db2110",
   "metadata": {
    "ExecuteTime": {
     "end_time": "2022-06-14T11:12:12.859583Z",
     "start_time": "2022-06-14T11:12:12.842016Z"
    },
    "code_folding": []
   },
   "outputs": [],
   "source": [
    "def e3fp(path):\n",
    "    '''Generating a dataframe containing e3fp fingerpints.'''\n",
    "    start_time = time.time()\n",
    "    \n",
    "    def loadSDF(path):\n",
    "        global sdf\n",
    "        sdf = pt.LoadSDF(path)\n",
    "        sdf = sdf.drop([\"ROMol\"],axis=1)\n",
    "        return sdf\n",
    "    loadSDF(path)\n",
    "    \n",
    "    def Calculation(self):\n",
    "    # Setting the configuration for generating fingerprint.\n",
    "        fprint_params = {'bits': 4096, 'radius_multiplier': 1.5, 'rdkit_invariants': True}\n",
    "        confgen_params = {'max_energy_diff': 1.0, 'first': 0}\n",
    "        global fingerprints\n",
    "        fingerprints = fprints_from_smiles(self, \"test\", confgen_params=confgen_params, fprint_params=fprint_params)\n",
    "        return fingerprints\n",
    "    \n",
    "    def Parallelizer(sdf):\n",
    "        global job\n",
    "        job = Parallel(n_jobs=(multiprocessing.cpu_count()-1),timeout=None)(delayed(Calculation)(smile) for smile in tqdm(sdf['s_user_SMILES']))\n",
    "        return job\n",
    "    e3fp_fingerprints = Parallelizer(sdf)\n",
    "    \n",
    "    def ProcessFingerprints(e3fp_fingerprints):\n",
    "        print(e3fp_fingerprints)\n",
    "        fin = pd.DataFrame()\n",
    "        fin['e3fp'] = e3fp_fingerprints\n",
    "        fin.to_csv(f\"{os.path.dirname(path)}/intermediate.csv\",index=False)\n",
    "        \n",
    "        with fileinput.FileInput(f\"{os.path.dirname(path)}/intermediate.csv\", inplace=True, backup=\".bak\") as file:\n",
    "            for line in file:\n",
    "                print(line.replace(\"[Fingerprint(indices=array([\",\"\"),end='')\n",
    "\n",
    "        with fileinput.FileInput(f\"{os.path.dirname(path)}/intermediate.csv\", inplace=True, backup=\".bak\") as file:\n",
    "            for line in file:\n",
    "                print(line.replace(\"]), level=5, bits=4096, name=test_0)]\",\"\"),end='')\n",
    "        \n",
    "        global df\n",
    "        df = pd.read_csv(f\"{os.path.dirname(path)}/intermediate.csv\")\n",
    "        df2 = df[\"e3fp\"].str.split(',', expand=True)\n",
    "        df = df.drop(['e3fp'],axis=1)\n",
    "        df = sdf.join(df2)\n",
    "        df.fillna(0, inplace=True)\n",
    "        df.to_csv(f\"{os.path.dirname(path)}/{os.path.splitext(os.path.basename(path))[0]}-e3fp.csv\",index=False)\n",
    "        return df\n",
    "    ProcessFingerprints(e3fp_fingerprints)\n",
    "    print(f\"Time taken to generate e3fp fingerprints for {len(df)} molecules is {(time.time()-start_time)/60} minutes.\")"
   ]
  },
  {
   "cell_type": "code",
   "execution_count": null,
   "id": "566a6ae7",
   "metadata": {
    "ExecuteTime": {
     "end_time": "2022-06-14T11:21:24.982598Z",
     "start_time": "2022-06-14T11:21:14.519812Z"
    }
   },
   "outputs": [],
   "source": [
    "e3fp(\"/home2/satvik/ml_dl/oral-bioavailability/test_1.sdf\")"
   ]
  },
  {
   "cell_type": "code",
   "execution_count": null,
   "id": "cf785b68",
   "metadata": {},
   "outputs": [],
   "source": []
  }
 ],
 "metadata": {
  "kernelspec": {
   "display_name": "Python 3 (ipykernel)",
   "language": "python",
   "name": "python3"
  },
  "language_info": {
   "codemirror_mode": {
    "name": "ipython",
    "version": 3
   },
   "file_extension": ".py",
   "mimetype": "text/x-python",
   "name": "python",
   "nbconvert_exporter": "python",
   "pygments_lexer": "ipython3",
   "version": "3.9.12"
  }
 },
 "nbformat": 4,
 "nbformat_minor": 5
}
