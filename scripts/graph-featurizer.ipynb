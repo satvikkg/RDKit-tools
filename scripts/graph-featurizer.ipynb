{
 "cells": [
  {
   "cell_type": "code",
   "execution_count": 54,
   "id": "6a784c99",
   "metadata": {},
   "outputs": [],
   "source": [
    "import os\n",
    "import pandas as pd\n",
    "from rdkit import Chem\n",
    "import networkx as nx\n",
    "import matplotlib.pyplot as plt\n",
    "from rdkit.Chem import PandasTools as pt"
   ]
  },
  {
   "cell_type": "code",
   "execution_count": null,
   "id": "9fdb4e36",
   "metadata": {},
   "outputs": [],
   "source": [
    "def CSVgraphF(self):\n",
    "    '''Function to create graph features for molecules from csv file.'''\n",
    "\n",
    "    df = pd.read_csv(self)\n",
    "    df['mol'] = df['smiles'].map(lambda x: Chem.MolFromSmiles(x))\n",
    "    \n",
    "    def mol_to_nx(smi):\n",
    "        G = nx.Graph()\n",
    "        \n",
    "        for atom in smi.GetAtoms():\n",
    "            G.add_node(atom.GetIdx(),\n",
    "                      atomic_num = atom.GetAtomicNum(),\n",
    "                      is_aromatic = atom.GetIsAromatic(),\n",
    "                      atom_symbol = atom.GetSymbol())\n",
    "            \n",
    "        for bond in smi.GetBonds():\n",
    "            G.add_edge(bond.GetBeginAtomIdx(),\n",
    "                      bond.GetEndAtomIdx(),\n",
    "                      bond_type = bond.GetBondType())\n",
    "            \n",
    "        GNX = nx.to_numpy_matrix(G)\n",
    "        return GNX\n",
    "    \n",
    "    df['feature'] = df['mol'].map(lambda x: mol_to_nx(x))\n",
    "    df.to_csv(f\"{os.path.dirname(self)}/{os.path.splitext(os.path.basename(self))[0]}-features.csv\", index=False)"
   ]
  },
  {
   "cell_type": "code",
   "execution_count": 57,
   "id": "fc786758",
   "metadata": {},
   "outputs": [],
   "source": [
    "def CSVgraphFF(self):\n",
    "    '''Function to create graph features for molecules from csv file.(extra features).'''\n",
    "\n",
    "    df = pd.read_csv(self)\n",
    "    df['mol'] = df['smiles'].map(lambda x: Chem.MolFromSmiles(x))\n",
    "    \n",
    "    def mol_to_nx(smi):\n",
    "        G = nx.Graph()\n",
    "        \n",
    "        for atom in smi.GetAtoms():\n",
    "            G.add_node(atom.GetIdx(),\n",
    "                      atomic_num = atom.GetAtomicNum(),\n",
    "                      is_aromatic = atom.GetIsAromatic(),\n",
    "                      atom_symbol = atom.GetSymbol(),\n",
    "                      atom_bonds = atom.GetBonds(),\n",
    "                      atom_chiral = atom.GetChiralTag(),\n",
    "                      atom_charge = atom.GetFormalCharge(),\n",
    "                      atom_hybridization = atom.GetHybridization())\n",
    "            \n",
    "        for bond in smi.GetBonds():\n",
    "            G.add_edge(bond.GetBeginAtomIdx(),\n",
    "                      bond.GetEndAtomIdx(),\n",
    "                      bond_type = bond.GetBondType(),\n",
    "                      bond_stereo = bond.GetStereo())\n",
    "            \n",
    "        GNX = nx.to_numpy_matrix(G)\n",
    "        return GNX\n",
    "    \n",
    "    df['feature'] = df['mol'].map(lambda x: mol_to_nx(x))\n",
    "    df.to_csv(f\"{os.path.dirname(self)}/{os.path.splitext(os.path.basename(self))[0]}-full_features.csv\", index=False)"
   ]
  },
  {
   "cell_type": "code",
   "execution_count": 59,
   "id": "2f26667f",
   "metadata": {},
   "outputs": [],
   "source": [
    "CSVgraphFF('/home/administrator/satvik/ml_dl/oral-bioavailability/test.csv')"
   ]
  },
  {
   "cell_type": "code",
   "execution_count": 75,
   "id": "bf186860",
   "metadata": {},
   "outputs": [],
   "source": [
    "def SDFgraphFF(self):\n",
    "    '''Function to create graph features for molecules from sdf file.'''\n",
    "\n",
    "    sdf = pt.LoadSDF(self, includeFingerprints=False)\n",
    "    sdf['smiles'] = sdf['ROMol'].map(lambda x: Chem.MolToSmiles(x))\n",
    "    \n",
    "    def mol_to_nx(smi):\n",
    "        G = nx.Graph()\n",
    "        \n",
    "        for atom in smi.GetAtoms():\n",
    "            G.add_node(atom.GetIdx(),\n",
    "                      atomic_num = atom.GetAtomicNum(),\n",
    "                      is_aromatic = atom.GetIsAromatic(),\n",
    "                      atom_symbol = atom.GetSymbol(),\n",
    "                      atom_bonds = atom.GetBonds(),\n",
    "                      atom_chiral = atom.GetChiralTag(),\n",
    "                      atom_charge = atom.GetFormalCharge(),\n",
    "                      atom_hybridization = atom.GetHybridization())\n",
    "            \n",
    "        for bond in smi.GetBonds():\n",
    "            G.add_edge(bond.GetBeginAtomIdx(),\n",
    "                      bond.GetEndAtomIdx(),\n",
    "                      bond_type = bond.GetBondType(),\n",
    "                      bond_stereo = bond.GetStereo())\n",
    "            \n",
    "        GNX = nx.to_numpy_matrix(G)\n",
    "        return GNX\n",
    "    \n",
    "    sdf['feature'] = sdf['ROMol'].map(lambda x: mol_to_nx(x))\n",
    "    df = sdf[['smiles','feature']]\n",
    "    df.to_csv(f\"{os.path.dirname(self)}/{os.path.splitext(os.path.basename(self))[0]}-sdf-full_features.csv\", index=False)"
   ]
  },
  {
   "cell_type": "code",
   "execution_count": 76,
   "id": "f7dd7dce",
   "metadata": {},
   "outputs": [
    {
     "name": "stderr",
     "output_type": "stream",
     "text": [
      "[16:52:48] Warning: molecule is tagged as 3D, but all Z coords are zero\n",
      "[16:52:49] Warning: molecule is tagged as 3D, but all Z coords are zero\n",
      "[16:52:49] Warning: molecule is tagged as 3D, but all Z coords are zero\n",
      "[16:52:51] Warning: molecule is tagged as 3D, but all Z coords are zero\n",
      "[16:52:51] Warning: molecule is tagged as 3D, but all Z coords are zero\n",
      "[16:52:54] Warning: molecule is tagged as 3D, but all Z coords are zero\n"
     ]
    }
   ],
   "source": [
    "SDFgraphFF('/home/administrator/satvik/ml_dl/oral-bioavailability/sch/ligprep_oral_bioavailability_processed/prepared.sdf')"
   ]
  },
  {
   "cell_type": "code",
   "execution_count": null,
   "id": "959a6b54",
   "metadata": {},
   "outputs": [],
   "source": []
  }
 ],
 "metadata": {
  "kernelspec": {
   "display_name": "Python 3 (ipykernel)",
   "language": "python",
   "name": "python3"
  },
  "language_info": {
   "codemirror_mode": {
    "name": "ipython",
    "version": 3
   },
   "file_extension": ".py",
   "mimetype": "text/x-python",
   "name": "python",
   "nbconvert_exporter": "python",
   "pygments_lexer": "ipython3",
   "version": "3.10.5"
  }
 },
 "nbformat": 4,
 "nbformat_minor": 5
}
