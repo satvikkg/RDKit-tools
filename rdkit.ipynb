import pandas as pd
import rdkit
from rdkit import Chem
from rdkit.Chem import PandasTools as pt

